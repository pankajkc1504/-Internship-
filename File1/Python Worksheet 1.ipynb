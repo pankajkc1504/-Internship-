{
 "cells": [
  {
   "cell_type": "code",
   "execution_count": 9,
   "id": "79b53555-241b-4674-ac0f-88dd582ef496",
   "metadata": {},
   "outputs": [
    {
     "name": "stdout",
     "output_type": "stream",
     "text": [
      "The factorial of 6 is 720\n"
     ]
    }
   ],
   "source": [
    "def factorial(n):\n",
    "    if n == 0:\n",
    "        return 1\n",
    "    else:\n",
    "        return n * factorial(n - 1)\n",
    "\n",
    "# Example:\n",
    "number = 6\n",
    "print(f\"The factorial of {number} is {factorial(number)}\")"
   ]
  },
  {
   "cell_type": "code",
   "execution_count": 27,
   "id": "c9f0b323-676d-4bd5-ae6d-bad86ca2ff60",
   "metadata": {},
   "outputs": [
    {
     "name": "stdout",
     "output_type": "stream",
     "text": [
      "The number 31 is Prime.\n"
     ]
    }
   ],
   "source": [
    "def is_prime(n):\n",
    "    if n <= 1:\n",
    "        return False\n",
    "    for i in range(2, int(n**0.5) + 1):\n",
    "        if n % i == 0:\n",
    "            return False\n",
    "    return True\n",
    "\n",
    "def check_prime_or_composite(number):\n",
    "    if number <= 1:\n",
    "        return \"Neither prime nor composite\"\n",
    "    elif is_prime(number):\n",
    "        return \"Prime\"\n",
    "    else:\n",
    "        return \"Composite\"\n",
    "\n",
    "# Example:\n",
    "number = 31\n",
    "print(f\"The number {number} is {check_prime_or_composite(number)}.\")"
   ]
  },
  {
   "cell_type": "code",
   "execution_count": 17,
   "id": "ea4fbb3c-1f54-467b-8183-0039b5cc7b0f",
   "metadata": {},
   "outputs": [
    {
     "name": "stdout",
     "output_type": "stream",
     "text": [
      "\"A man a plan a canal Panama\" is a palindrome.\n"
     ]
    }
   ],
   "source": [
    "def is_palindrome(s):\n",
    "    # Remove any spaces and convert the string to lowercase\n",
    "    s = s.replace(\" \", \"\").lower()\n",
    "    # Check if the string is equal to its reverse\n",
    "    return s == s[::-1]\n",
    "\n",
    "# Example:\n",
    "string = \"A man a plan a canal Panama\"\n",
    "if is_palindrome(string):\n",
    "    print(f'\"{string}\" is a palindrome.')\n",
    "else:\n",
    "    print(f'\"{string}\" is not a palindrome.')"
   ]
  },
  {
   "cell_type": "code",
   "execution_count": 21,
   "id": "5520158c-fb6c-4185-a55f-4448bf66fb35",
   "metadata": {},
   "outputs": [
    {
     "name": "stdout",
     "output_type": "stream",
     "text": [
      "The third side of the right-angled triangle is 5.00\n"
     ]
    }
   ],
   "source": [
    "import math\n",
    "\n",
    "def find_third_side(a, b, hypotenuse=False):\n",
    "    if hypotenuse:\n",
    "        # If one of the sides is the hypotenuse, use the Pythagorean theorem: a^2 = c^2 - b^2\n",
    "        return math.sqrt(a**2 - b**2)\n",
    "    else:\n",
    "        # If both given sides are legs, calculate the hypotenuse: c = sqrt(a^2 + b^2)\n",
    "        return math.sqrt(a**2 + b**2)\n",
    "\n",
    "# Example:\n",
    "side1 = 3\n",
    "side2 = 4\n",
    "third_side = find_third_side(side1, side2)\n",
    "print(f\"The third side of the right-angled triangle is {third_side:.2f}\")"
   ]
  },
  {
   "cell_type": "code",
   "execution_count": 25,
   "id": "bfe32e22-6394-47fc-ac72-af68fb8cd523",
   "metadata": {},
   "outputs": [
    {
     "name": "stdout",
     "output_type": "stream",
     "text": [
      "'h': 2\n",
      "'e': 1\n",
      "'l': 2\n",
      "'o': 1\n",
      "' ': 1\n",
      "'s': 1\n",
      "'a': 1\n",
      "'c': 1\n",
      "'i': 1\n",
      "'n': 1\n"
     ]
    }
   ],
   "source": [
    "def character_frequency(s):\n",
    "    frequency = {}\n",
    "    for char in s:\n",
    "        if char in frequency:\n",
    "            frequency[char] += 1\n",
    "        else:\n",
    "            frequency[char] = 1\n",
    "    return frequency\n",
    "\n",
    "# Example:\n",
    "string = \"hello sachin\"\n",
    "freq = character_frequency(string)\n",
    "for char, count in freq.items():\n",
    "    print(f\"'{char}': {count}\")"
   ]
  }
 ],
 "metadata": {
  "kernelspec": {
   "display_name": "Python 3 (ipykernel)",
   "language": "python",
   "name": "python3"
  },
  "language_info": {
   "codemirror_mode": {
    "name": "ipython",
    "version": 3
   },
   "file_extension": ".py",
   "mimetype": "text/x-python",
   "name": "python",
   "nbconvert_exporter": "python",
   "pygments_lexer": "ipython3",
   "version": "3.12.4"
  }
 },
 "nbformat": 4,
 "nbformat_minor": 5
}
