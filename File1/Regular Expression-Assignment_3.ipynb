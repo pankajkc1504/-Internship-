{
 "cells": [
  {
   "cell_type": "code",
   "execution_count": 7,
   "id": "dc91579c-8a7b-4337-9508-1b351ca78cca",
   "metadata": {},
   "outputs": [
    {
     "name": "stdout",
     "output_type": "stream",
     "text": [
      "Python:Exercises::PHP:exercises:\n"
     ]
    }
   ],
   "source": [
    "def replace_characters(text):\n",
    "    # Replace space, comma, and dot with a colon\n",
    "    replaced_text = text.replace(' ', ':').replace(',', ':').replace('.', ':')\n",
    "    return replaced_text    \n",
    "sample_text = 'Python Exercises, PHP exercises.'\n",
    "output = replace_characters(sample_text)\n",
    "print(output)"
   ]
  },
  {
   "cell_type": "code",
   "execution_count": 13,
   "id": "667ddf51-62a0-4edf-bb5e-8d5e277c7914",
   "metadata": {},
   "outputs": [
    {
     "name": "stdout",
     "output_type": "stream",
     "text": [
      "        SUMMARY\n",
      "0   hello world\n",
      "1    XXXXX test\n",
      "2  123four five\n"
     ]
    }
   ],
   "source": [
    "import pandas as pd\n",
    "import re\n",
    "\n",
    "# Dictionary provided\n",
    "data = {'SUMMARY': ['hello, world!', 'XXXXX test', '123four, five:; six...']}\n",
    "\n",
    "# Create DataFrame\n",
    "df = pd.DataFrame(data)\n",
    "\n",
    "# Function to clean text\n",
    "def clean_text(text):\n",
    "    # Remove everything except words and spaces\n",
    "    cleaned_text = re.sub(r'[^\\w\\s]', '', text)  # Remove punctuation\n",
    "    cleaned_text = re.sub(r'\\b\\w{1,3}\\b', '', cleaned_text)  # Remove words like 'XXXXX'\n",
    "    cleaned_text = re.sub(r'\\s+', ' ', cleaned_text).strip()  # Remove extra spaces\n",
    "    return cleaned_text\n",
    "\n",
    "# Apply the cleaning function to the 'SUMMARY' column\n",
    "df['SUMMARY'] = df['SUMMARY'].apply(clean_text)\n",
    "\n",
    "# Display the cleaned DataFrame\n",
    "print(df)"
   ]
  },
  {
   "cell_type": "code",
   "execution_count": 19,
   "id": "5c840a18-7fed-4488-b04d-3fdacda52281",
   "metadata": {},
   "outputs": [
    {
     "name": "stdout",
     "output_type": "stream",
     "text": [
      "['Rajesh', 'good', 'student', 'very', 'clever', 'energetic', 'allrounder', 'person']\n"
     ]
    }
   ],
   "source": [
    "import re\n",
    "\n",
    "def find_long_words(text):\n",
    "    # Compile a regular expression pattern to match words with 4 or more characters\n",
    "    pattern = re.compile(r'\\b\\w{4,}\\b')\n",
    "    \n",
    "    long_words = pattern.findall(text)\n",
    "    \n",
    "    return long_words\n",
    "\n",
    "sample_text = \"Rajesh is a good student he is very clever energetic allrounder person.\"\n",
    "result = find_long_words(sample_text)\n",
    "print(result)"
   ]
  },
  {
   "cell_type": "code",
   "execution_count": 7,
   "id": "bdab39cd-16ca-49c0-9152-fca00d455c4e",
   "metadata": {},
   "outputs": [
    {
     "name": "stdout",
     "output_type": "stream",
     "text": [
      "['Aamir', 'very', 'much', 'every', 'his', 'work']\n"
     ]
    }
   ],
   "source": [
    "import re\n",
    "\n",
    "def find_words(text):\n",
    "    \n",
    "    pattern = re.compile(r'\\b\\w{3,5}\\b')\n",
    "    \n",
    "    matches = pattern.findall(text)\n",
    "    \n",
    "    return matches\n",
    "# Ex\n",
    "text = \"Aamir is very much perfect in every aspect of his work.\"\n",
    "result = find_words(text)\n",
    "print(result)"
   ]
  },
  {
   "cell_type": "code",
   "execution_count": 144,
   "id": "1063b00b-4993-4847-81ac-061a2c035b86",
   "metadata": {},
   "outputs": [
    {
     "name": "stdout",
     "output_type": "stream",
     "text": [
      "['example.com', 'hr@fliprobo.com', 'github.com', 'HelloData Science World', 'DataScientist']\n"
     ]
    }
   ],
   "source": [
    "import re\n",
    "\n",
    "def remove_parenthesis(text_list):\n",
    "    \n",
    "    pattern = re.compile(r'\\s*\\((.*?)\\)\\s*')\n",
    "    \n",
    "    cleaned_text = [pattern.sub(r'\\1', line).strip() for line in text_list]\n",
    "    \n",
    "    return cleaned_text\n",
    "\n",
    "sample_text = [\"example (.com)\", \"hr@fliprobo (.com)\", \"github (.com)\", \"Hello (Data Science World)\", \"Data (Scientist)\"]\n",
    "\n",
    "output = remove_parenthesis(sample_text)\n",
    "print(output)"
   ]
  },
  {
   "cell_type": "code",
   "execution_count": 140,
   "id": "5b6f1419-ecb2-485a-a40e-5ebe921b88d1",
   "metadata": {},
   "outputs": [
    {
     "name": "stdout",
     "output_type": "stream",
     "text": [
      "['example', 'hr@fliprobo', 'github', 'Hello', 'Data']\n"
     ]
    }
   ],
   "source": [
    "import re\n",
    "\n",
    "def remove_parenthesis_area(text):\n",
    "    \n",
    "    pattern = re.compile(r'\\s*\\(.*?\\)\\s*')\n",
    "    \n",
    "    cleaned_text = [pattern.sub('', line).strip() for line in text]\n",
    "    \n",
    "    return cleaned_text\n",
    "\n",
    "sample_text = [\"example (.com)\", \"hr@fliprobo (.com)\", \"github (.com)\", \"Hello (Data Science World)\", \"Data (Scientist)\"]\n",
    "\n",
    "with open('sample_text.txt', 'w') as file:\n",
    "    for line in sample_text:\n",
    "        file.write(line + '\\n')\n",
    "\n",
    "with open('sample_text.txt', 'r') as file:\n",
    "    text_lines = file.readlines()\n",
    "\n",
    "output = remove_parenthesis_area(text_lines)\n",
    "print(output)"
   ]
  },
  {
   "cell_type": "code",
   "execution_count": 21,
   "id": "ae609471-fd22-47b7-a732-24540e1e1e75",
   "metadata": {},
   "outputs": [
    {
     "name": "stdout",
     "output_type": "stream",
     "text": [
      "['Importance', 'Of', 'Regular', 'Expressions', 'In', 'Python']\n"
     ]
    }
   ],
   "source": [
    "import re\n",
    "\n",
    "# Sample text\n",
    "text = \"ImportanceOfRegularExpressionsInPython\"\n",
    "\n",
    "# Regular expression to split the string at each uppercase letter\n",
    "result = re.findall(r'[A-Z][a-z]*', text)\n",
    "\n",
    "print(result)\n"
   ]
  },
  {
   "cell_type": "code",
   "execution_count": 25,
   "id": "4f161154-eab5-41a1-a1a6-49010530cadd",
   "metadata": {},
   "outputs": [
    {
     "name": "stdout",
     "output_type": "stream",
     "text": [
      "RegularExpression 1IsAn 2ImportantTopic 3InPython\n"
     ]
    }
   ],
   "source": [
    "import re\n",
    "\n",
    "def insert_spaces(text):\n",
    "    # Regular expression digit followed by an uppercase letter\n",
    "    result = re.sub(r'(\\d)([A-Z])', r' \\1\\2', text)\n",
    "    return result\n",
    "\n",
    "# Sample text\n",
    "text = \"RegularExpression1IsAn2ImportantTopic3InPython\"\n",
    "\n",
    "output = insert_spaces(text)\n",
    "print(output)"
   ]
  },
  {
   "cell_type": "code",
   "execution_count": 27,
   "id": "f71d5b27-da0b-4535-be5e-ae0c1d4f9163",
   "metadata": {},
   "outputs": [
    {
     "name": "stdout",
     "output_type": "stream",
     "text": [
      "Regular Expression 1 Is An 2 Important Topic 3 In Python\n"
     ]
    }
   ],
   "source": [
    "import re\n",
    "\n",
    "def insert_spaces(text):\n",
    "    # Regular expression position before an uppercase letter or a digit\n",
    "    result = re.sub(r'(?<=.)([A-Z0-9])', r' \\1', text)\n",
    "    return result\n",
    "\n",
    "# Sample text\n",
    "text = \"RegularExpression1IsAn2ImportantTopic3InPython\"\n",
    "\n",
    "output = insert_spaces(text)\n",
    "print(output)"
   ]
  },
  {
   "cell_type": "code",
   "execution_count": null,
   "id": "6e718e28-8848-42c1-9ee3-3ad00f7643f0",
   "metadata": {},
   "outputs": [],
   "source": [
    "importpandas as pd\n",
    "data = \n",
    "pandas Dataframe\n",
    "dffirst_five_letters = pd.DataFrame(data = ['']\n",
    "print                  "
   ]
  },
  {
   "cell_type": "code",
   "execution_count": 33,
   "id": "be45436e-0f3e-43ac-9ddb-df020957e1fe",
   "metadata": {},
   "outputs": [
    {
     "name": "stdout",
     "output_type": "stream",
     "text": [
      "'Valid_String123': True\n",
      "'Invalid-String!': False\n",
      "'Another_valid_string_456': True\n"
     ]
    }
   ],
   "source": [
    "import re\n",
    "\n",
    "def match_string(text):\n",
    "    # Regular expression \n",
    "    pattern = r'^\\w+$'\n",
    "    \n",
    "    if re.match(pattern, text):\n",
    "        return True\n",
    "    else:\n",
    "        return False\n",
    "\n",
    "# Sample inputs\n",
    "texts = [\"Valid_String123\", \"Invalid-String!\", \"Another_valid_string_456\"]\n",
    "\n",
    "for text in texts:\n",
    "    print(f\"'{text}':\", match_string(text))"
   ]
  },
  {
   "cell_type": "code",
   "execution_count": 35,
   "id": "e034d006-7f84-4acc-935a-a11d4a9e1f49",
   "metadata": {},
   "outputs": [
    {
     "name": "stdout",
     "output_type": "stream",
     "text": [
      "'123abc' starts with '123': True\n",
      "'456def' starts with '123': False\n",
      "'789ghi' starts with '123': False\n"
     ]
    }
   ],
   "source": [
    "import re\n",
    "\n",
    "def starts_with_number(text, number):\n",
    "    # Regular expression\n",
    "    pattern = rf'^{number}'\n",
    "    \n",
    "    if re.match(pattern, text):\n",
    "        return True\n",
    "    else:\n",
    "        return False\n",
    "\n",
    "# Sample inputs\n",
    "texts = [\"123abc\", \"456def\", \"789ghi\"]\n",
    "specific_number = \"123\"\n",
    "\n",
    "for text in texts:\n",
    "    print(f\"'{text}' starts with '{specific_number}':\", starts_with_number(text, specific_number))"
   ]
  },
  {
   "cell_type": "code",
   "execution_count": 43,
   "id": "e9230e65-fefa-4923-a11a-e201b0eb8baa",
   "metadata": {},
   "outputs": [
    {
     "name": "stdout",
     "output_type": "stream",
     "text": [
      "192.168.1.1\n"
     ]
    }
   ],
   "source": [
    "import re\n",
    "\n",
    "def remove_leadingzeros(ip_address):\n",
    "    # Regular expression\n",
    "    corrected_ip = re.sub(r'\\b0+(\\d)', r'\\1', ip_address)\n",
    "    return corrected_ip\n",
    "\n",
    "# Sample input\n",
    "ip_address = \"192.168.001.001\"\n",
    "\n",
    "corrected_ip = remove_leadingzeros(ip_address)\n",
    "print(corrected_ip)"
   ]
  },
  {
   "cell_type": "code",
   "execution_count": 138,
   "id": "9bc7f3fd-7afe-455b-b7fb-7eca4653b725",
   "metadata": {},
   "outputs": [
    {
     "name": "stdout",
     "output_type": "stream",
     "text": [
      "August 15th 1947\n"
     ]
    }
   ],
   "source": [
    "import re\n",
    "\n",
    "# Sample text\n",
    "sample_text = (\"On August 15th 1947 that India was declared independent from British colonialism, \"\n",
    "               \"and the reins of control were handed over to the leaders of the Country.\")\n",
    "\n",
    "with open('sample_text.txt', 'w') as file:\n",
    "    file.write(sample_text)\n",
    "\n",
    "with open('sample_text.txt', 'r') as file:\n",
    "    content = file.read()\n",
    "\n",
    "# Compile the regular expression pattern\n",
    "date_pattern = re.compile(\n",
    "    r'\\b('\n",
    "    r'January|February|March|April|May|June|July|August|September|October|November|December'\n",
    "    r')\\s\\d{1,2}(st|nd|rd|th)?\\s\\d{4}\\b')\n",
    "\n",
    "match = date_pattern.search(content)\n",
    "\n",
    "if match:\n",
    "    print(match.group())\n",
    "else:\n",
    "    print(\"No date found in the text.\")"
   ]
  },
  {
   "cell_type": "code",
   "execution_count": 63,
   "id": "1054ea03-bc42-4344-9cfc-e3f9f00a9186",
   "metadata": {},
   "outputs": [
    {
     "name": "stdout",
     "output_type": "stream",
     "text": [
      "'fox' found in text: True\n",
      "'dog' found in text: True\n",
      "'horse' found in text: False\n"
     ]
    }
   ],
   "source": [
    "def search_literals(text, words):\n",
    "\n",
    "    results = {word: (word in text) for word in words}\n",
    "    return results\n",
    "\n",
    "# Sample text\n",
    "text = 'The quick brown fox jumps over the lazy dog.'\n",
    "\n",
    "searched_words = ['fox', 'dog', 'horse']\n",
    "\n",
    "results = search_literals(text, searched_words)\n",
    "\n",
    "for word, found in results.items():\n",
    "    print(f\"'{word}' found in text: {found}\")"
   ]
  },
  {
   "cell_type": "code",
   "execution_count": 67,
   "id": "7267f565-d33c-48ae-b5c2-3e2ea124320b",
   "metadata": {},
   "outputs": [
    {
     "name": "stdout",
     "output_type": "stream",
     "text": [
      "'fox' found at positions: [(16, 19)]\n"
     ]
    }
   ],
   "source": [
    "import re\n",
    "\n",
    "def search_literal_with_location(text, word):\n",
    "    # Use re.finditer\n",
    "    matches = [(match.start(), match.end()) for match in re.finditer(word, text)]\n",
    "    \n",
    "    if matches:\n",
    "        return f\"'{word}' found at positions: {matches}\"\n",
    "    else:\n",
    "        return f\"'{word}' not found in the text.\"\n",
    "\n",
    "# Sample text\n",
    "text = 'The quick brown fox jumps over the lazy dog.'\n",
    "\n",
    "searched_word = 'fox'\n",
    "\n",
    "result = search_literal_with_location(text, searched_word)\n",
    "\n",
    "print(result)"
   ]
  },
  {
   "cell_type": "code",
   "execution_count": 72,
   "id": "d1d20beb-c1cc-4590-9baa-e1643f087a2e",
   "metadata": {},
   "outputs": [
    {
     "name": "stdout",
     "output_type": "stream",
     "text": [
      "'exercises' found at positions: [(7, 16), (22, 31), (36, 45)]\n"
     ]
    }
   ],
   "source": [
    "import re\n",
    "\n",
    "def find_substrings(text, pattern):\n",
    "    # Use re.finditer\n",
    "    matches = [(match.start(), match.end()) for match in re.finditer(pattern, text)]\n",
    "    \n",
    "    if matches:\n",
    "        return matches\n",
    "    else:\n",
    "        return \"No matches found.\"\n",
    "\n",
    "# Sample text\n",
    "text = 'Python exercises, PHP exercises, C# exercises'\n",
    "\n",
    "# Pattern\n",
    "pattern = 'exercises'\n",
    "\n",
    "# Find substrings and locations\n",
    "result = find_substrings(text, pattern)\n",
    "\n",
    "# Print the result\n",
    "print(f\"'{pattern}' found at positions: {result}\")"
   ]
  },
  {
   "cell_type": "code",
   "execution_count": 76,
   "id": "7670da61-cf3b-4420-aa77-9380c308c6c9",
   "metadata": {},
   "outputs": [
    {
     "name": "stdout",
     "output_type": "stream",
     "text": [
      "'assignment' found at position 7 to 17\n",
      "'assignment' found at position 23 to 33\n",
      "'assignment' found at position 38 to 48\n"
     ]
    }
   ],
   "source": [
    "import re\n",
    "\n",
    "def find_occurrences_and_positions(text, pattern):\n",
    "    # Use re.finditer\n",
    "    matches = [(match.group(), match.start(), match.end()) for match in re.finditer(pattern, text)]\n",
    "    \n",
    "    if matches:\n",
    "        return matches\n",
    "    else:\n",
    "        return \"No matches found.\"\n",
    "\n",
    "# Sample text\n",
    "text = 'Python assignment, PHP assignment, C# assignment'\n",
    "\n",
    "# Pattern to search for\n",
    "pattern = 'assignment'\n",
    "\n",
    "# Find occurrences and their locations\n",
    "result = find_occurrences_and_positions(text, pattern)\n",
    "\n",
    "# Print the result\n",
    "for match in result:\n",
    "    print(f\"'{match[0]}' found at position {match[1]} to {match[2]}\")"
   ]
  },
  {
   "cell_type": "code",
   "execution_count": 78,
   "id": "35ec1510-a974-45b1-8bd6-f81f90b3e4c7",
   "metadata": {},
   "outputs": [
    {
     "name": "stdout",
     "output_type": "stream",
     "text": [
      "Converted date: 20-07-2022\n"
     ]
    }
   ],
   "source": [
    "from datetime import datetime\n",
    "\n",
    "def convert_date_format(date_string):\n",
    "    # Parse the input date string in yyyy-mm-dd format\n",
    "    date_obj = datetime.strptime(date_string, '%Y-%m-%d')\n",
    "    \n",
    "    # Convert the date object to dd-mm-yyyy format\n",
    "    formatted_date = date_obj.strftime('%d-%m-%Y')\n",
    "    \n",
    "    return formatted_date\n",
    "\n",
    "# Sample date in yyyy-mm-dd format\n",
    "date_string = '2022-07-20'\n",
    "\n",
    "converted_date = convert_date_format(date_string)\n",
    "\n",
    "print(\"Converted date:\", converted_date)"
   ]
  },
  {
   "cell_type": "code",
   "execution_count": 84,
   "id": "c80786e1-bcb8-4558-9f2f-ad97500c5fa9",
   "metadata": {},
   "outputs": [
    {
     "name": "stdout",
     "output_type": "stream",
     "text": [
      "Decimal numbers with precision of 1 or 2: ['01.12', '145.8', '3.01', '27.25', '0.25']\n"
     ]
    }
   ],
   "source": [
    "import re\n",
    "\n",
    "def find_decimal_numbers(text):\n",
    "    # Compile a regular expression pattern \n",
    "    pattern = re.compile(r'\\b\\d+\\.\\d{1,2}\\b')\n",
    "    \n",
    "    matches = pattern.findall(text)\n",
    "    \n",
    "    return matches\n",
    "\n",
    "# Sample text\n",
    "text = \"01.12 0132.123 2.31875 145.8 3.01 27.25 0.25\"\n",
    "\n",
    "# decimal numbers with precision of 1 or 2\n",
    "result = find_decimal_numbers(text)\n",
    "\n",
    "print(\"Decimal numbers with precision of 1 or 2:\", result)"
   ]
  },
  {
   "cell_type": "code",
   "execution_count": 90,
   "id": "2ab9c25b-dd4c-4db8-bff6-c91d53290149",
   "metadata": {},
   "outputs": [
    {
     "name": "stdout",
     "output_type": "stream",
     "text": [
      "Number: 23, Position: 21\n",
      "Number: 24, Position: 28\n",
      "Number: 6548, Position: 60\n"
     ]
    }
   ],
   "source": [
    "import re\n",
    "\n",
    "def find_numbers_and_positions(text):\n",
    "    # Compile a regular expression pattern\n",
    "    pattern = re.compile(r'\\d+')\n",
    "    \n",
    "    matches = [(match.group(), match.start()) for match in pattern.finditer(text)]\n",
    "    \n",
    "    for number, position in matches:\n",
    "        print(f\"Number: {number}, Position: {position}\")\n",
    "\n",
    "# Sample text\n",
    "text = \"The survey number is 23 and 24 and the building number is B 6548.\"\n",
    "\n",
    "find_numbers_and_positions(text)"
   ]
  },
  {
   "cell_type": "code",
   "execution_count": 92,
   "id": "8ea38328-63d1-4717-a6a3-fbe5c6fa14c8",
   "metadata": {},
   "outputs": [
    {
     "name": "stdout",
     "output_type": "stream",
     "text": [
      "The largest number is: 950\n"
     ]
    }
   ],
   "source": [
    "import re\n",
    "\n",
    "def extract_largest_number(text):\n",
    "    # Compile a regular expression pattern\n",
    "    pattern = re.compile(r'\\d+')\n",
    "    \n",
    "    numbers = pattern.findall(text)\n",
    "    \n",
    "    # Convert the list of string numbers to integers and find the maximum value\n",
    "    largest_number = max(map(int, numbers))\n",
    "    \n",
    "    return largest_number\n",
    "\n",
    "# Sample text\n",
    "text = 'My marks in each semester are: 947, 896, 926, 524, 734, 950, 642'\n",
    "\n",
    "largest_number = extract_largest_number(text)\n",
    "\n",
    "print(\"The largest number is:\", largest_number)"
   ]
  },
  {
   "cell_type": "code",
   "execution_count": 100,
   "id": "a8bde8fb-ac40-492e-822d-a002591179d5",
   "metadata": {},
   "outputs": [
    {
     "name": "stdout",
     "output_type": "stream",
     "text": [
      "Regular Expression Is An Important Topic In Python\n"
     ]
    }
   ],
   "source": [
    "import re\n",
    "\n",
    "def insert_spaces(text):\n",
    "    # Use regular expression to insert space before each capital letter except the first one\n",
    "    spaced_text = re.sub(r'(?<!^)(?=[A-Z])', ' ', text)\n",
    "    return spaced_text\n",
    "\n",
    "# Example usage\n",
    "sample_text = \"RegularExpressionIsAnImportantTopicInPython\"\n",
    "result = insert_spaces(sample_text)\n",
    "print(result)"
   ]
  },
  {
   "cell_type": "code",
   "execution_count": 106,
   "id": "2811b71d-df2b-4990-b09c-d8d15409c4fa",
   "metadata": {},
   "outputs": [
    {
     "name": "stdout",
     "output_type": "stream",
     "text": [
      "['Sachin', 'Is', 'Very', 'Intelligent', 'Batsman', 'In', 'The', 'History', 'Of', 'World', 'Cricket']\n"
     ]
    }
   ],
   "source": [
    "import re\n",
    "pattern = r'[A-Z][a-z]+'\n",
    "\n",
    "# Example usage\n",
    "text = \"SachinIsVeryIntelligentBatsmanInTheHistoryOfWorldCricket\"\n",
    "matches = re.findall(pattern, text)\n",
    "\n",
    "print(matches)"
   ]
  },
  {
   "cell_type": "code",
   "execution_count": 116,
   "id": "1e374b23-6be0-4e31-84ad-8b777601ec9b",
   "metadata": {},
   "outputs": [
    {
     "name": "stdout",
     "output_type": "stream",
     "text": [
      "Hello world\n"
     ]
    }
   ],
   "source": [
    "import re\n",
    "\n",
    "def remove_duplicate_words(text):\n",
    "    \n",
    "    pattern = r'\\b(\\w+)\\s+\\1\\b'\n",
    "    \n",
    "    # Use re.sub to replace duplicate words with a single occurrence\n",
    "    cleaned_text = re.sub(pattern, r'\\1', text, flags=re.IGNORECASE)\n",
    "    return cleaned_text\n",
    "\n",
    "sample_text = \"Hello hello world world\"\n",
    "result = remove_duplicate_words(sample_text)\n",
    "print(result)"
   ]
  },
  {
   "cell_type": "code",
   "execution_count": 122,
   "id": "7433668b-a022-4770-a1b0-990dc187e5a4",
   "metadata": {},
   "outputs": [
    {
     "name": "stdout",
     "output_type": "stream",
     "text": [
      "True\n",
      "False\n"
     ]
    }
   ],
   "source": [
    "import re\n",
    "\n",
    "def ends_with_alphanumeric(text):\n",
    "    # Regex pattern to check if the string ends with an alphanumeric character\n",
    "    pattern = r'.*[a-zA-Z0-9]$'\n",
    "    \n",
    "    # Use re.match to check if the pattern matches the text\n",
    "    if re.match(pattern, text):\n",
    "        return True\n",
    "    else:\n",
    "        return False\n",
    "\n",
    "sample_text = \"HiSachin890\"\n",
    "result = ends_with_alphanumeric(sample_text)\n",
    "print(result)  # Output: True\n",
    "\n",
    "sample_text2 = \"HiSachin890!\"\n",
    "result2 = ends_with_alphanumeric(sample_text2)\n",
    "print(result2)  # Output: False"
   ]
  },
  {
   "cell_type": "code",
   "execution_count": 124,
   "id": "53f61e00-40e9-44cb-9609-6d2ff03e0a24",
   "metadata": {},
   "outputs": [
    {
     "name": "stdout",
     "output_type": "stream",
     "text": [
      "['#Doltiwal', '#xyzabc', '#Demonetization']\n"
     ]
    }
   ],
   "source": [
    "import re\n",
    "\n",
    "def extract_hashtags(text):\n",
    "    # Regex pattern to find hashtags\n",
    "    pattern = r'#\\w+'\n",
    "    \n",
    "    # Use re.findall to extract all hashtags\n",
    "    hashtags = re.findall(pattern, text)\n",
    "    return hashtags\n",
    "\n",
    "# Example usage\n",
    "sample_text = \"\"\"RT @kapil_kausik: #Doltiwal I mean #xyzabc is \"hurt\" by #Demonetization as the same has rendered USELESS <ed><U+00A0><U+00BD><ed><U+00B1><U+0089> \"acquired funds\" No wo\"\"\"\n",
    "result = extract_hashtags(sample_text)\n",
    "print(result)"
   ]
  },
  {
   "cell_type": "code",
   "execution_count": 126,
   "id": "27be7d7d-0f93-4fc5-8f7f-ef20818847b4",
   "metadata": {},
   "outputs": [
    {
     "name": "stdout",
     "output_type": "stream",
     "text": [
      "@Jags123456 Bharat band on 28??<ed><ed>Those who  are protesting #demonetization  are all different party leaders\n"
     ]
    }
   ],
   "source": [
    "import re\n",
    "\n",
    "def remove_unicode_symbols(text):\n",
    "    # Regex pattern to match <U+....> and similar symbols\n",
    "    pattern = r'<U\\+[0-9A-F]{4,}>'\n",
    "    \n",
    "    # Use re.sub to replace matched patterns with an empty string\n",
    "    cleaned_text = re.sub(pattern, '', text)\n",
    "    return cleaned_text\n",
    "\n",
    "# Example usage\n",
    "sample_text = \"@Jags123456 Bharat band on 28??<ed><U+00A0><U+00BD><ed><U+00B8><U+0082>Those who  are protesting #demonetization  are all different party leaders\"\n",
    "result = remove_unicode_symbols(sample_text)\n",
    "print(result)"
   ]
  },
  {
   "cell_type": "code",
   "execution_count": 134,
   "id": "f0349611-ebd1-461f-8175-4ab162cc7c8f",
   "metadata": {},
   "outputs": [
    {
     "name": "stdout",
     "output_type": "stream",
     "text": [
      "following example creates ArrayList a capacity elements. 4 elements added ArrayList ArrayList trimmed accordingly.\n"
     ]
    }
   ],
   "source": [
    "import re\n",
    "\n",
    "def remove_words(text):\n",
    "    pattern = re.compile(r'\\b\\w{2,4}\\b')\n",
    "    \n",
    "    result = pattern.sub('', text)\n",
    "    \n",
    "    return ' '.join(result.split())\n",
    "\n",
    "sample_text = \"The following example creates an ArrayList with a capacity of 50 elements. 4 elements are then added to the ArrayList and the ArrayList is trimmed accordingly.\"\n",
    "\n",
    "# Remove words of length 2 to 4\n",
    "output = remove_words(sample_text)\n",
    "print(output)"
   ]
  }
 ],
 "metadata": {
  "kernelspec": {
   "display_name": "Python 3 (ipykernel)",
   "language": "python",
   "name": "python3"
  },
  "language_info": {
   "codemirror_mode": {
    "name": "ipython",
    "version": 3
   },
   "file_extension": ".py",
   "mimetype": "text/x-python",
   "name": "python",
   "nbconvert_exporter": "python",
   "pygments_lexer": "ipython3",
   "version": "3.12.4"
  }
 },
 "nbformat": 4,
 "nbformat_minor": 5
}
